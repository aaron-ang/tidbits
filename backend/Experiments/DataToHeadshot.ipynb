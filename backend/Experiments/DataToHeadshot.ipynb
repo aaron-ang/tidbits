{
 "cells": [
  {
   "cell_type": "code",
   "execution_count": 13,
   "metadata": {},
   "outputs": [],
   "source": [
    "from dotenv import load_dotenv\n",
    "\n",
    "load_dotenv()\n",
    "import nest_asyncio\n",
    "import os\n",
    "\n",
    "nest_asyncio.apply()\n",
    "import json\n",
    "import base64"
   ]
  },
  {
   "cell_type": "code",
   "execution_count": 14,
   "metadata": {},
   "outputs": [
    {
     "name": "stdout",
     "output_type": "stream",
     "text": [
      "Have you ever wondered how your contacts app works so fast? 🤔 It uses a special trick called a trie! 🪄 Imagine a tree 🌳 but instead of leaves, it has arrays! 📊 Each array represents a letter. To find your friend's name, you just follow the path of letters until you reach the end. 😎 Whether you have 3 friends or 3 million, it always takes the same number of steps! ⏰ That's the magic of a trie - it's like having a super speedy dictionary 📖💨 right in your pocket! 🤳 Pretty cool, huh? 😄 #CS50 #computerscience #datastructures\n"
     ]
    }
   ],
   "source": [
    "# Load json from data/data.json\n",
    "\n",
    "with open(\"data/data.json\") as f:\n",
    "    data = json.load(f)\n",
    "print(data[\"script\"])\n",
    "\n",
    "# Constants:\n",
    "img_urls = [\"\"\"https://cdn.discordapp.com/attachments/1212193794494042202/1223728760948523190/jas1.jpg?ex=661ae938&is=66087438&hm=a2661c174ebec9afba3265e3eb6bb86832f732f66d88195a5faa293a09839654&\"\"\", \"\"\"https://cdn.discordapp.com/attachments/1221634008656642048/1223822939875704904/IMG_2084.jpg?ex=661b40ee&is=6608cbee&hm=ec453c6196ea2b6fc3bfa3e9fcb7f14a438f955f69198d937ea079da55a2afd6&\"\"\"]\n",
    "voice_ids = [\"jA3XNbtepbUtYOz5Q5bI\", \"UCHQN7CfyPSQTpOZoSvi\"]\n",
    "bearer = os.environ.get(\"DID_API_KEY\")\n",
    "encoded = base64.b64encode(bearer.encode(\"utf-8\")).decode(\"utf-8\")\n",
    "eleven = os.environ.get(\"ELEVENLABS_API_KEY\")"
   ]
  },
  {
   "cell_type": "code",
   "execution_count": 15,
   "metadata": {},
   "outputs": [],
   "source": [
    "import asyncio\n",
    "import aiohttp\n",
    "\n",
    "async def post_talk(script):\n",
    "    url = \"https://api.d-id.com/talks\"\n",
    "    headers = {\n",
    "        'accept': 'application/json',\n",
    "        'authorization': f'Basic {encoded}',\n",
    "        'Content-Type': 'application/json',\n",
    "        'x-api-key-external': json.dumps({\"elevenlabs\": eleven})\n",
    "    }\n",
    "    data = {\n",
    "        \"script\": {\n",
    "            \"type\": \"text\",\n",
    "            \"subtitles\": \"false\",\n",
    "            \"provider\": {\n",
    "                \"type\": \"elevenlabs\",\n",
    "                \"voice_id\": voice_ids[1],\n",
    "                \"voice_config\": {\"stability\": 0.3, \"similarity_boost\": 0.9},\n",
    "            },\n",
    "            \"model_id\": \"eleven_multilingual_v2\",\n",
    "            \"input\": script,\n",
    "        },\n",
    "        \"config\": {\"fluent\": \"false\", \"pad_audio\": \"0.0\"},\n",
    "        \"source_url\": img_urls[1],\n",
    "    }\n",
    "\n",
    "    async with aiohttp.ClientSession() as session:\n",
    "        async with session.post(url, headers=headers, json=data) as response:\n",
    "            # Check if the request was successful\n",
    "            if response.status == 201:\n",
    "                # Process the response here\n",
    "                response_data = await response.json()\n",
    "                id = response_data[\"id\"]\n",
    "\n",
    "            else:\n",
    "                # Handle request errors here\n",
    "                print(f\"Failed to post data, status code: {response.status}\")\n",
    "                print(await response.text())\n",
    "                return \"\"\n",
    "\n",
    "        # Loop to check the status\n",
    "        while True:\n",
    "            async with session.get(f\"{url}/{id}\", headers=headers) as status_response:\n",
    "                if status_response.status == 200:\n",
    "                    status_data = await status_response.json()\n",
    "                    if status_data[\"status\"] == \"done\":\n",
    "                        result_url = status_data[\"result_url\"]\n",
    "                        break\n",
    "                    else:\n",
    "                        # Wait for some time before checking the status again\n",
    "                        await asyncio.sleep(5)\n",
    "                else:\n",
    "                    print(f\"Failed to get data, status code: {status_response.status}\")\n",
    "                    return \"\"\n",
    "\n",
    "        # Download the video\n",
    "        async with session.get(result_url) as video_response:\n",
    "            if video_response.status == 200:\n",
    "                mp4_data = (\n",
    "                    await video_response.read()\n",
    "                )  # This is the binary data of the MP4 file\n",
    "                return mp4_data\n",
    "            else:\n",
    "                print(f\"Failed to download video, status code: {video_response.status}\")\n",
    "                return \"\""
   ]
  },
  {
   "cell_type": "code",
   "execution_count": 16,
   "metadata": {},
   "outputs": [],
   "source": [
    "video = asyncio.run(post_talk(data[\"script\"]))"
   ]
  },
  {
   "cell_type": "code",
   "execution_count": null,
   "metadata": {},
   "outputs": [],
   "source": [
    "# Save video\n",
    "with open(\"data/headshot.mp4\", \"wb\") as f:\n",
    "    f.write(video)"
   ]
  }
 ],
 "metadata": {
  "kernelspec": {
   "display_name": "tidbits",
   "language": "python",
   "name": "python3"
  },
  "language_info": {
   "codemirror_mode": {
    "name": "ipython",
    "version": 3
   },
   "file_extension": ".py",
   "mimetype": "text/x-python",
   "name": "python",
   "nbconvert_exporter": "python",
   "pygments_lexer": "ipython3",
   "version": "3.10.13"
  }
 },
 "nbformat": 4,
 "nbformat_minor": 2
}
