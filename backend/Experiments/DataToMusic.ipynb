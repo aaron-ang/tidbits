{
 "cells": [
  {
   "cell_type": "code",
   "execution_count": 14,
   "metadata": {},
   "outputs": [],
   "source": [
    "import asyncio\n",
    "from dotenv import load_dotenv\n",
    "import aiohttp\n",
    "\n",
    "load_dotenv()\n",
    "import nest_asyncio\n",
    "\n",
    "nest_asyncio.apply()\n",
    "import os\n",
    "from anthropic import AsyncAnthropic\n",
    "from xml.sax.saxutils import escape\n",
    "from suno import SongsGen\n",
    "from concurrent.futures import ThreadPoolExecutor"
   ]
  },
  {
   "cell_type": "code",
   "execution_count": 15,
   "metadata": {},
   "outputs": [
    {
     "name": "stdout",
     "output_type": "stream",
     "text": [
      "Playful and quirky instrumental background music with a light, whimsical tone.\n"
     ]
    }
   ],
   "source": [
    "import json\n",
    "# Load json from data/data.json\n",
    "\n",
    "with open('data/data.json') as f:\n",
    "    data = json.load(f)\n",
    "print(data['music_description'])"
   ]
  },
  {
   "cell_type": "code",
   "execution_count": 16,
   "metadata": {},
   "outputs": [],
   "source": [
    "async def async_generate_music(text):\n",
    "    i = SongsGen(os.environ.get(\"SUNO_COOKIE\"))\n",
    "    print(i.get_limit_left())\n",
    "    loop = asyncio.get_running_loop()\n",
    "\n",
    "    result = None\n",
    "    # Use a ThreadPoolExecutor to run synchronous functions in threads\n",
    "    with ThreadPoolExecutor() as pool:\n",
    "        result = await loop.run_in_executor(\n",
    "            pool,\n",
    "            lambda: i.get_songs(text, make_instrumental=True),\n",
    "        )\n",
    "\n",
    "    if not result:\n",
    "        return None\n",
    "\n",
    "    link = result[\"song_url\"]\n",
    "    print(\"Link: \", link)\n",
    "\n",
    "    attempt = 0\n",
    "    retry_delay = 5\n",
    "    async with aiohttp.ClientSession() as session:\n",
    "        while attempt < 5:\n",
    "            async with session.get(link) as response:\n",
    "                if response.status == 200:\n",
    "                    data = await response.read()\n",
    "                    # Check if data is not empty\n",
    "                    if data:\n",
    "                        return data\n",
    "                    else:\n",
    "                        print(\"No data received, retrying in 5 seconds...\")\n",
    "                else:\n",
    "                    print(\n",
    "                        f\"Failed to fetch the song, status code: {response.status}, retrying in 5 seconds...\"\n",
    "                    )\n",
    "            await asyncio.sleep(retry_delay)  # Async sleep for retry_delay seconds\n",
    "            attempt += 1\n",
    "\n",
    "    print(\"Failed to fetch the song after retries\")\n",
    "    return None"
   ]
  },
  {
   "cell_type": "code",
   "execution_count": 18,
   "metadata": {},
   "outputs": [
    {
     "name": "stdout",
     "output_type": "stream",
     "text": [
      "190\n"
     ]
    },
    {
     "data": {
      "text/html": [
       "<pre style=\"white-space:pre;overflow-x:auto;line-height:normal;font-family:Menlo,'DejaVu Sans Mono',consolas,'Courier New',monospace\">Waiting for results<span style=\"color: #808000; text-decoration-color: #808000\">...</span>\n",
       "</pre>\n"
      ],
      "text/plain": [
       "Waiting for results\u001b[33m...\u001b[0m\n"
      ]
     },
     "metadata": {},
     "output_type": "display_data"
    },
    {
     "data": {
      "text/html": [
       "<pre style=\"white-space:pre;overflow-x:auto;line-height:normal;font-family:Menlo,'DejaVu Sans Mono',consolas,'Courier New',monospace\">.</pre>\n"
      ],
      "text/plain": [
       "."
      ]
     },
     "metadata": {},
     "output_type": "display_data"
    },
    {
     "data": {
      "text/html": [
       "<pre style=\"white-space:pre;overflow-x:auto;line-height:normal;font-family:Menlo,'DejaVu Sans Mono',consolas,'Courier New',monospace\">.</pre>\n"
      ],
      "text/plain": [
       "."
      ]
     },
     "metadata": {},
     "output_type": "display_data"
    },
    {
     "data": {
      "text/html": [
       "<pre style=\"white-space:pre;overflow-x:auto;line-height:normal;font-family:Menlo,'DejaVu Sans Mono',consolas,'Courier New',monospace\">.</pre>\n"
      ],
      "text/plain": [
       "."
      ]
     },
     "metadata": {},
     "output_type": "display_data"
    },
    {
     "data": {
      "text/html": [
       "<pre style=\"white-space:pre;overflow-x:auto;line-height:normal;font-family:Menlo,'DejaVu Sans Mono',consolas,'Courier New',monospace\">.</pre>\n"
      ],
      "text/plain": [
       "."
      ]
     },
     "metadata": {},
     "output_type": "display_data"
    },
    {
     "data": {
      "text/html": [
       "<pre style=\"white-space:pre;overflow-x:auto;line-height:normal;font-family:Menlo,'DejaVu Sans Mono',consolas,'Courier New',monospace\">.</pre>\n"
      ],
      "text/plain": [
       "."
      ]
     },
     "metadata": {},
     "output_type": "display_data"
    },
    {
     "data": {
      "text/html": [
       "<pre style=\"white-space:pre;overflow-x:auto;line-height:normal;font-family:Menlo,'DejaVu Sans Mono',consolas,'Courier New',monospace\">.</pre>\n"
      ],
      "text/plain": [
       "."
      ]
     },
     "metadata": {},
     "output_type": "display_data"
    },
    {
     "data": {
      "text/html": [
       "<pre style=\"white-space:pre;overflow-x:auto;line-height:normal;font-family:Menlo,'DejaVu Sans Mono',consolas,'Courier New',monospace\">.</pre>\n"
      ],
      "text/plain": [
       "."
      ]
     },
     "metadata": {},
     "output_type": "display_data"
    },
    {
     "data": {
      "text/html": [
       "<pre style=\"white-space:pre;overflow-x:auto;line-height:normal;font-family:Menlo,'DejaVu Sans Mono',consolas,'Courier New',monospace\">.</pre>\n"
      ],
      "text/plain": [
       "."
      ]
     },
     "metadata": {},
     "output_type": "display_data"
    },
    {
     "data": {
      "text/html": [
       "<pre style=\"white-space:pre;overflow-x:auto;line-height:normal;font-family:Menlo,'DejaVu Sans Mono',consolas,'Courier New',monospace\">.</pre>\n"
      ],
      "text/plain": [
       "."
      ]
     },
     "metadata": {},
     "output_type": "display_data"
    },
    {
     "data": {
      "text/html": [
       "<pre style=\"white-space:pre;overflow-x:auto;line-height:normal;font-family:Menlo,'DejaVu Sans Mono',consolas,'Courier New',monospace\">.</pre>\n"
      ],
      "text/plain": [
       "."
      ]
     },
     "metadata": {},
     "output_type": "display_data"
    },
    {
     "data": {
      "text/html": [
       "<pre style=\"white-space:pre;overflow-x:auto;line-height:normal;font-family:Menlo,'DejaVu Sans Mono',consolas,'Courier New',monospace\">.</pre>\n"
      ],
      "text/plain": [
       "."
      ]
     },
     "metadata": {},
     "output_type": "display_data"
    },
    {
     "data": {
      "text/html": [
       "<pre style=\"white-space:pre;overflow-x:auto;line-height:normal;font-family:Menlo,'DejaVu Sans Mono',consolas,'Courier New',monospace\">.</pre>\n"
      ],
      "text/plain": [
       "."
      ]
     },
     "metadata": {},
     "output_type": "display_data"
    },
    {
     "data": {
      "text/html": [
       "<pre style=\"white-space:pre;overflow-x:auto;line-height:normal;font-family:Menlo,'DejaVu Sans Mono',consolas,'Courier New',monospace\">Token expired, will sleep <span style=\"color: #008080; text-decoration-color: #008080; font-weight: bold\">30</span> seconds and try to download\n",
       "</pre>\n"
      ],
      "text/plain": [
       "Token expired, will sleep \u001b[1;36m30\u001b[0m seconds and try to download\n"
      ]
     },
     "metadata": {},
     "output_type": "display_data"
    },
    {
     "name": "stdout",
     "output_type": "stream",
     "text": [
      "Link:  https://audiopipe.suno.ai/?item_id=27fae954-bcd6-4544-8259-4346fd02e435\n"
     ]
    }
   ],
   "source": [
    "result = asyncio.run(async_generate_music(data['music_description']))\n",
    "\n",
    "# Save result as mp3\n",
    "with open('data/music.mp3', 'wb') as f:\n",
    "    f.write(result)\n",
    "    f.close()"
   ]
  }
 ],
 "metadata": {
  "kernelspec": {
   "display_name": "tidbits",
   "language": "python",
   "name": "python3"
  },
  "language_info": {
   "codemirror_mode": {
    "name": "ipython",
    "version": 3
   },
   "file_extension": ".py",
   "mimetype": "text/x-python",
   "name": "python",
   "nbconvert_exporter": "python",
   "pygments_lexer": "ipython3",
   "version": "3.10.13"
  }
 },
 "nbformat": 4,
 "nbformat_minor": 2
}
