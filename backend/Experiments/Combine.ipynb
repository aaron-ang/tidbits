{
 "cells": [
  {
   "cell_type": "code",
   "execution_count": 9,
   "metadata": {},
   "outputs": [],
   "source": [
    "from dotenv import load_dotenv\n",
    "\n",
    "load_dotenv()\n",
    "import nest_asyncio\n",
    "import os\n",
    "\n",
    "nest_asyncio.apply()\n",
    "import json\n",
    "import base64\n",
    "import moviepy\n",
    "import numpy as np\n",
    "\n",
    "\n",
    "from moviepy.editor import (\n",
    "    VideoFileClip,\n",
    "    AudioFileClip,\n",
    "    ImageClip,\n",
    "    CompositeVideoClip,\n",
    "    CompositeAudioClip,\n",
    "    ColorClip,\n",
    "    concatenate_videoclips,\n",
    ")"
   ]
  },
  {
   "cell_type": "code",
   "execution_count": 10,
   "metadata": {},
   "outputs": [
    {
     "name": "stdout",
     "output_type": "stream",
     "text": [
      "[{'description': 'A crowded Sweetgreen shelf with salads organized into 26 labeled sections', 'timestamp': 0}, {'description': \"Close-up of a salad being placed in the 'A' section of the shelf\", 'timestamp': 8}, {'description': \"Timelapse of someone's hand quickly grabbing a salad from a letter section\", 'timestamp': 15}, {'description': \"The 'D' section of the shelf overflowing with salads, with salads falling onto the floor\", 'timestamp': 22}]\n"
     ]
    }
   ],
   "source": [
    "with open(\"data/data.json\") as f:\n",
    "    data = json.load(f)\n",
    "print(data[\"pictures\"])"
   ]
  },
  {
   "cell_type": "code",
   "execution_count": 11,
   "metadata": {},
   "outputs": [],
   "source": [
    "from moviepy.editor import VideoFileClip, vfx\n",
    "import numpy as np\n",
    "\n",
    "\n",
    "def create_circular_mask(clip, radius=None):\n",
    "    \"\"\"\n",
    "    Applies a circular mask to the given clip, making the exterior of the circle transparent.\n",
    "    \"\"\"\n",
    "    if radius is None:\n",
    "        radius = min(clip.size) // 2\n",
    "\n",
    "    def mask_frame(frame):\n",
    "        h, w = frame.shape[:2]\n",
    "        Y, X = np.ogrid[:h, :w]\n",
    "        center = (h // 2, w // 2)\n",
    "        dist_from_center = np.sqrt((X - center[1]) ** 2 + (Y - center[0]) ** 2)\n",
    "\n",
    "        mask = dist_from_center <= radius\n",
    "        new_frame = frame.copy()\n",
    "        for i in range(3):  # Apply mask to each channel\n",
    "            new_frame[:, :, i] = frame[:, :, i] * mask\n",
    "\n",
    "        return new_frame\n",
    "\n",
    "    masked_clip = clip.fl_image(mask_frame)\n",
    "\n",
    "    # Create a mask clip\n",
    "    mask_clip = clip.fl_image(lambda frame: 255 * (mask_frame(frame) > 0))\n",
    "    masked_clip = masked_clip.set_mask(mask_clip.to_mask())\n",
    "\n",
    "    return masked_clip"
   ]
  },
  {
   "cell_type": "code",
   "execution_count": 12,
   "metadata": {},
   "outputs": [
    {
     "name": "stdout",
     "output_type": "stream",
     "text": [
      "Moviepy - Building video data/final_video.mp4.\n",
      "MoviePy - Writing audio in final_videoTEMP_MPY_wvf_snd.mp3\n"
     ]
    },
    {
     "name": "stderr",
     "output_type": "stream",
     "text": [
      "                                                                     \r"
     ]
    },
    {
     "name": "stdout",
     "output_type": "stream",
     "text": [
      "MoviePy - Done.\n",
      "Moviepy - Writing video data/final_video.mp4\n",
      "\n"
     ]
    },
    {
     "name": "stderr",
     "output_type": "stream",
     "text": [
      "                                                                \r"
     ]
    },
    {
     "name": "stdout",
     "output_type": "stream",
     "text": [
      "Moviepy - Done !\n",
      "Moviepy - video ready data/final_video.mp4\n"
     ]
    }
   ],
   "source": [
    "image_clips = []\n",
    "pictures = data[\"pictures\"]\n",
    "\n",
    "# Load the headshot video to determine its duration\n",
    "headshot_clip = VideoFileClip(\"data/headshot.mp4\").resize(\n",
    "    height=500\n",
    ")  # Adjust resizing as needed\n",
    "headshot_duration = headshot_clip.duration\n",
    "headshot_audio = headshot_clip.audio\n",
    "\n",
    "# Make audio slightly louder\n",
    "headshot_audio = headshot_audio.volumex(1.5)\n",
    "\n",
    "# Apply circular mask and position the headshot clip\n",
    "headshot_clip = create_circular_mask(headshot_clip)\n",
    "headshot_clip = headshot_clip.set_position((\"right\", \"bottom\")).margin(\n",
    "    right=50, bottom=50, opacity=0\n",
    ")\n",
    "\n",
    "# Initialize the list for image clips\n",
    "image_clips = []\n",
    "\n",
    "for i, picture in enumerate(pictures):\n",
    "    img_path = f\"data/images/image_{i}.png\"\n",
    "    img_clip = ImageClip(img_path)\n",
    "\n",
    "    # Resize the image to fit the width of the canvas\n",
    "    img_clip = img_clip.resize(width=1080)\n",
    "\n",
    "    # Create a black background clip with the same size as the canvas\n",
    "    black_bg = ColorClip(size=(1080, 1920), color=(0, 0, 0))\n",
    "\n",
    "    # Composite the image clip onto the black background clip\n",
    "    img_clip = CompositeVideoClip(\n",
    "        [black_bg, img_clip.set_position(\"center\")], size=(1080, 1920)\n",
    "    )\n",
    "\n",
    "    # Calculate the duration each image should be displayed\n",
    "    duration = picture[\"timestamp\"] - (pictures[i - 1][\"timestamp\"] if i > 0 else 0)\n",
    "    img_clip = img_clip.set_duration(duration)\n",
    "\n",
    "    # Set the start time for each image based on the timestamp\n",
    "    if i > 0:\n",
    "        img_clip = img_clip.set_start(pictures[i - 1][\"timestamp\"])\n",
    "\n",
    "    image_clips.append(img_clip)\n",
    "\n",
    "\n",
    "# Concatenate image clips\n",
    "video_clip = concatenate_videoclips(image_clips, method=\"chain\")\n",
    "\n",
    "# Adjust the final image clip to match the headshot video's duration if necessary\n",
    "if video_clip.duration < headshot_duration:\n",
    "    # Extend the last clip\n",
    "    last_clip = image_clips[-1].set_end(headshot_duration)\n",
    "    image_clips[-1] = last_clip\n",
    "    video_clip = concatenate_videoclips(\n",
    "        image_clips, method=\"chain\"\n",
    "    )\n",
    "elif video_clip.duration > headshot_duration:\n",
    "    # Truncate the video_clip to match the headshot_duration\n",
    "    video_clip = video_clip.subclip(0, headshot_duration)\n",
    "\n",
    "# Load and adjust the background music\n",
    "background_music = AudioFileClip(\"data/music.mp3\")\n",
    "if background_music.duration > headshot_duration:\n",
    "    background_music = background_music.subclip(0, headshot_duration)\n",
    "else:\n",
    "    # Loop the music if it is shorter than the headshot video\n",
    "    background_music = background_music.loop(duration=headshot_duration)\n",
    "\n",
    "final_audio = CompositeAudioClip([headshot_audio, background_music])\n",
    "\n",
    "# Create the final composite clip\n",
    "final_clip = CompositeVideoClip(\n",
    "    [\n",
    "        video_clip.set_duration(headshot_duration),\n",
    "        headshot_clip.set_duration(headshot_duration)\n",
    "    ],\n",
    "    size=(1080, 1920),\n",
    ").set_audio(final_audio)\n",
    "\n",
    "# Write the final video to a file\n",
    "final_clip.write_videofile(\"data/final_video.mp4\", threads=8, fps=24)"
   ]
  }
 ],
 "metadata": {
  "kernelspec": {
   "display_name": "tidbits",
   "language": "python",
   "name": "python3"
  },
  "language_info": {
   "codemirror_mode": {
    "name": "ipython",
    "version": 3
   },
   "file_extension": ".py",
   "mimetype": "text/x-python",
   "name": "python",
   "nbconvert_exporter": "python",
   "pygments_lexer": "ipython3",
   "version": "3.9.19"
  }
 },
 "nbformat": 4,
 "nbformat_minor": 2
}
