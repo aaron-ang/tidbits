{
 "cells": [
  {
   "cell_type": "code",
   "execution_count": 1,
   "metadata": {},
   "outputs": [],
   "source": [
    "import asyncio\n",
    "from dotenv import load_dotenv\n",
    "load_dotenv()\n",
    "import nest_asyncio\n",
    "nest_asyncio.apply()\n",
    "import os\n",
    "from anthropic import AsyncAnthropic\n",
    "from xml.sax.saxutils import escape\n",
    "import re\n",
    "import json"
   ]
  },
  {
   "cell_type": "code",
   "execution_count": 2,
   "metadata": {},
   "outputs": [],
   "source": [
    "\n",
    "prompt = \"\"\"\\n\\n\n",
    "The above is a transcript of a lecture video with timestamps for each sentence in seconds.\n",
    "\n",
    "Your task is to create a 30 second engaging and educational tiktok script for one topic in the video. \n",
    "Choose one of the more obscure and interesting topics from the transcript that most people dont know about.\n",
    "The tiktok should incorporate an engaging story or example.\n",
    "Do not have any emojis or hashtags in the script.\n",
    "The script should be in ssml format. But do not change voices, only add pauses and emphasis.\n",
    "The script should sound passionate, excited, and happy.\n",
    "\"\"\"\n",
    "\n",
    "music_prompt = \"\"\"\n",
    "The above is a script for a tiktok video.\n",
    "Please generate a short one sentence description of the music that should be playing in the background of the video.\n",
    "Include genre and mood\n",
    "Example:\n",
    "\"A short upbeat EDM tune with a catchy melody\"\n",
    "\"\"\""
   ]
  },
  {
   "cell_type": "code",
   "execution_count": 3,
   "metadata": {},
   "outputs": [],
   "source": [
    "# Load transcript from data/transcript.txt\n",
    "with open(\"data/transcript.txt\", \"r\") as f:\n",
    "    transcript = f.read()"
   ]
  },
  {
   "cell_type": "code",
   "execution_count": 4,
   "metadata": {},
   "outputs": [],
   "source": [
    "async def generate_text(text, script):\n",
    "    client = AsyncAnthropic(\n",
    "        # This is the default and can be omitted\n",
    "        api_key=os.environ.get(\"ANTHROPIC_API_KEY\"),\n",
    "    )\n",
    "\n",
    "    message = await client.messages.create(\n",
    "        temperature=0,\n",
    "        max_tokens=512,\n",
    "        messages=[\n",
    "            {\n",
    "                \"role\": \"user\",\n",
    "                \"content\": text + script,\n",
    "            },\n",
    "            {\"role\": \"assistant\", \"content\": \"<\"},\n",
    "        ],\n",
    "        model=\"claude-3-opus-20240229\",\n",
    "    )\n",
    "\n",
    "    return message.content\n",
    "\n",
    "response = asyncio.run(generate_text(transcript, prompt))"
   ]
  },
  {
   "cell_type": "code",
   "execution_count": 5,
   "metadata": {},
   "outputs": [],
   "source": [
    "script = f\"<{response[0].text}\""
   ]
  },
  {
   "cell_type": "code",
   "execution_count": 6,
   "metadata": {},
   "outputs": [
    {
     "name": "stdout",
     "output_type": "stream",
     "text": [
      "<speak>\n",
      "Hey everyone! Today we're diving into the fascinating world of <emphasis level=\"strong\">tries</emphasis>! \n",
      "<break time=\"1s\"/>\n",
      "Tries may sound like something you do on a soccer field, but they're actually an incredibly powerful data structure in computer science.\n",
      "<break time=\"1s\"/>\n",
      "Imagine you're organizing a massive library, but instead of books, you're dealing with words or names. That's where tries come in!\n",
      "<break time=\"1s\"/>\n",
      "<emphasis level=\"moderate\">A trie is like a tree of arrays</emphasis>, where each array represents a letter. \n",
      "To store a name like \"Toad\", you'd start at the root, follow the path for 'T', then 'O', 'A', and finally 'D'. \n",
      "<break time=\"1s\"/>\n",
      "The magic of tries is that they allow for <emphasis level=\"strong\">lightning-fast searches</emphasis>. No matter how many names you have, finding \"Toad\" will always take the same number of steps. It's like having a super-powered librarian who can find any book instantly!\n",
      "<break time=\"1s\"/>\n",
      "So the next time you're searching for a contact on your phone or looking up a word in a dictionary, remember the power of tries working behind the scenes to make it all possible!\n",
      "</speak>\n"
     ]
    }
   ],
   "source": [
    "print(script)"
   ]
  },
  {
   "cell_type": "code",
   "execution_count": 7,
   "metadata": {},
   "outputs": [],
   "source": [
    "async def generate_text(text, script):\n",
    "    client = AsyncAnthropic(\n",
    "        # This is the default and can be omitted\n",
    "        api_key=os.environ.get(\"ANTHROPIC_API_KEY\"),\n",
    "    )\n",
    "\n",
    "    message = await client.messages.create(\n",
    "        temperature=0,\n",
    "        max_tokens=64,\n",
    "        messages=[\n",
    "            {\n",
    "                \"role\": \"user\",\n",
    "                \"content\": text + script,\n",
    "            },\n",
    "        ],\n",
    "        model=\"claude-3-opus-20240229\",\n",
    "    )\n",
    "\n",
    "    return message.content\n",
    "\n",
    "\n",
    "response = asyncio.run(generate_text(script, music_prompt))\n",
    "music = response[0].text"
   ]
  },
  {
   "cell_type": "code",
   "execution_count": 8,
   "metadata": {},
   "outputs": [
    {
     "data": {
      "text/plain": [
       "'An energetic and playful electronic track with a quirky, curious vibe.'"
      ]
     },
     "execution_count": 8,
     "metadata": {},
     "output_type": "execute_result"
    }
   ],
   "source": [
    "music"
   ]
  },
  {
   "cell_type": "code",
   "execution_count": 9,
   "metadata": {},
   "outputs": [],
   "source": [
    "with open(\"data/data.json\", \"w\") as f:\n",
    "    json.dump({\"script\": script, \"music_description\": music}, f, indent=4)"
   ]
  }
 ],
 "metadata": {
  "kernelspec": {
   "display_name": "tidbits",
   "language": "python",
   "name": "python3"
  },
  "language_info": {
   "codemirror_mode": {
    "name": "ipython",
    "version": 3
   },
   "file_extension": ".py",
   "mimetype": "text/x-python",
   "name": "python",
   "nbconvert_exporter": "python",
   "pygments_lexer": "ipython3",
   "version": "3.10.13"
  }
 },
 "nbformat": 4,
 "nbformat_minor": 2
}
