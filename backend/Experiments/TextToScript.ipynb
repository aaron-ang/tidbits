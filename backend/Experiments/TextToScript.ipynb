{
 "cells": [
  {
   "cell_type": "code",
   "execution_count": 23,
   "metadata": {},
   "outputs": [],
   "source": [
    "import asyncio\n",
    "from dotenv import load_dotenv\n",
    "load_dotenv()\n",
    "import nest_asyncio\n",
    "nest_asyncio.apply()\n",
    "import os\n",
    "from anthropic import AsyncAnthropic\n",
    "from xml.sax.saxutils import escape\n",
    "import re\n",
    "import json"
   ]
  },
  {
   "cell_type": "code",
   "execution_count": 31,
   "metadata": {},
   "outputs": [],
   "source": [
    "prompt = \"\"\"\\n\\n\n",
    "The above is a transcript of a lecture video with timestamps for each sentence in seconds.\n",
    "\n",
    "Your task is to create a 30 second engaging and educational tiktok script for one topic in the video. \n",
    "Choose one of the more obscure and interesting topics from the script.\n",
    "The tiktok should incorporate an engaging story or example.\n",
    "Structure it similar to viral tiktoks you've seen before.\n",
    "\n",
    "You will also need to give descriptions of pictures that will accompany the script.\n",
    "You will also need to generate a description of the music that will accompany the script.\n",
    "Output only a parsable JSON object with the following structure:\n",
    "```\n",
    "{\n",
    "    \"script\": \"This is the script of the tiktok\",\n",
    "    \"music_description\": \"This is a short description of the music (eg. intense violin solo, peaceful orchestral piano)\",\n",
    "    \"pictures\": [\n",
    "        {\n",
    "            \"description\": \"A picture of a cat\",\n",
    "            \"timestamp\": 0 (second)\n",
    "        },\n",
    "        {\n",
    "            \"description\": \"A picture of a dog\",\n",
    "            \"timestamp\": 5 (second))\n",
    "        }\n",
    "    ]\n",
    "}\n",
    "```\n",
    "\"\"\""
   ]
  },
  {
   "cell_type": "code",
   "execution_count": 32,
   "metadata": {},
   "outputs": [],
   "source": [
    "# Load transcript from data/transcript.txt\n",
    "with open(\"data/transcript.txt\", \"r\") as f:\n",
    "    transcript = f.read()"
   ]
  },
  {
   "cell_type": "code",
   "execution_count": 33,
   "metadata": {},
   "outputs": [],
   "source": [
    "async def generate_script(text):\n",
    "    client = AsyncAnthropic(\n",
    "        # This is the default and can be omitted\n",
    "        api_key=os.environ.get(\"ANTHROPIC_API_KEY\"),\n",
    "    )\n",
    "\n",
    "    message = await client.messages.create(\n",
    "        temperature=0,\n",
    "        max_tokens=512,\n",
    "        messages=[\n",
    "            {\n",
    "                \"role\": \"user\",\n",
    "                \"content\": text + prompt,\n",
    "            },\n",
    "            {\"role\": \"assistant\", \"content\": \"{\"},\n",
    "        ],\n",
    "        model=\"claude-3-opus-20240229\",\n",
    "    )\n",
    "\n",
    "    return message.content\n",
    "\n",
    "response = asyncio.run(generate_script(transcript))"
   ]
  },
  {
   "cell_type": "code",
   "execution_count": 34,
   "metadata": {},
   "outputs": [],
   "source": [
    "json_string = \"{\"+response[0].text\n",
    "json_obj = json.loads(json_string)\n",
    "\n",
    "with open(\"data/data.json\", \"w\") as f:\n",
    "    json.dump(json_obj, f, indent=4)"
   ]
  }
 ],
 "metadata": {
  "kernelspec": {
   "display_name": "tidbits",
   "language": "python",
   "name": "python3"
  },
  "language_info": {
   "codemirror_mode": {
    "name": "ipython",
    "version": 3
   },
   "file_extension": ".py",
   "mimetype": "text/x-python",
   "name": "python",
   "nbconvert_exporter": "python",
   "pygments_lexer": "ipython3",
   "version": "3.10.13"
  }
 },
 "nbformat": 4,
 "nbformat_minor": 2
}
