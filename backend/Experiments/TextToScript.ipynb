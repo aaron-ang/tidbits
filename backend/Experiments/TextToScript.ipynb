{
 "cells": [
  {
   "cell_type": "code",
   "execution_count": 69,
   "metadata": {},
   "outputs": [],
   "source": [
    "import asyncio\n",
    "from dotenv import load_dotenv\n",
    "load_dotenv()\n",
    "import nest_asyncio\n",
    "nest_asyncio.apply()\n",
    "import os\n",
    "from anthropic import AsyncAnthropic\n",
    "from xml.sax.saxutils import escape\n",
    "import re\n",
    "import json"
   ]
  },
  {
   "cell_type": "code",
   "execution_count": 70,
   "metadata": {},
   "outputs": [],
   "source": [
    "prompt = \"\"\"\\n\\n\n",
    "The above is a transcript of a lecture video with timestamps for each sentence in seconds.\n",
    "\n",
    "Your task is to create a 30 second engaging and educational tiktok script for one topic in the video. \n",
    "Choose one of the more obscure and interesting topics from the transcript that most people dont know about.\n",
    "The tiktok should incorporate an engaging story or example.\n",
    "Do not have any emojis or hashtags in the script.\n",
    "The script should be in ssml format. But do not change voices, only add pauses and emphasis.\n",
    "\"\"\"\n",
    "\n",
    "music_prompt = \"\"\"\n",
    "The above is a script for a tiktok video.\n",
    "Please generate a short one sentence description of the music that should be playing in the background of the video.\n",
    "Include genre and mood\n",
    "Example:\n",
    "\"A short upbeat EDM tune with a catchy melody\"\n",
    "\"\"\""
   ]
  },
  {
   "cell_type": "code",
   "execution_count": 71,
   "metadata": {},
   "outputs": [],
   "source": [
    "# Load transcript from data/transcript.txt\n",
    "with open(\"data/transcript.txt\", \"r\") as f:\n",
    "    transcript = f.read()"
   ]
  },
  {
   "cell_type": "code",
   "execution_count": 72,
   "metadata": {},
   "outputs": [],
   "source": [
    "async def generate_text(text, script):\n",
    "    client = AsyncAnthropic(\n",
    "        # This is the default and can be omitted\n",
    "        api_key=os.environ.get(\"ANTHROPIC_API_KEY\"),\n",
    "    )\n",
    "\n",
    "    message = await client.messages.create(\n",
    "        temperature=0,\n",
    "        max_tokens=512,\n",
    "        messages=[\n",
    "            {\n",
    "                \"role\": \"user\",\n",
    "                \"content\": text + script,\n",
    "            },\n",
    "            {\"role\": \"assistant\", \"content\": \"<\"},\n",
    "        ],\n",
    "        model=\"claude-3-opus-20240229\",\n",
    "    )\n",
    "\n",
    "    return message.content\n",
    "\n",
    "response = asyncio.run(generate_text(transcript, prompt))"
   ]
  },
  {
   "cell_type": "code",
   "execution_count": 73,
   "metadata": {},
   "outputs": [],
   "source": [
    "script = f\"<{response[0].text}\""
   ]
  },
  {
   "cell_type": "code",
   "execution_count": 74,
   "metadata": {},
   "outputs": [
    {
     "name": "stdout",
     "output_type": "stream",
     "text": [
      "<speak>\n",
      "Have you ever heard of a <emphasis>trie</emphasis>? No, not the verb \"try\", I'm talking about the <emphasis>data structure</emphasis> called a trie, spelled T-R-I-E. <break time=\"1s\"/>\n",
      "\n",
      "Imagine you're organizing a massive library, but instead of books, you're dealing with <emphasis>words</emphasis>. A trie is like a tree of arrays that allows you to store and retrieve these words at lightning-fast speeds. <break time=\"2s\"/>\n",
      "\n",
      "Picture each letter of the alphabet having its own shelf. To store a word, you simply place it on the shelf corresponding to its first letter. Then, <emphasis>each subsequent letter</emphasis> gets its own sub-shelf branching off from the previous one. <break time=\"2s\"/>\n",
      "\n",
      "The magic happens when you're looking for a specific word. <emphasis>No matter how many words are in the library, you can find any word in the same amount of time</emphasis> - just by following the path created by its letters! <break time=\"2s\"/>\n",
      "\n",
      "So the next time you're typing on your phone and the keyboard seems to magically predict the word you want, remember the humble trie - the unsung hero of lightning-fast word retrieval!\n",
      "</speak>\n"
     ]
    }
   ],
   "source": [
    "print(script)"
   ]
  },
  {
   "cell_type": "code",
   "execution_count": 75,
   "metadata": {},
   "outputs": [],
   "source": [
    "async def generate_text(text, script):\n",
    "    client = AsyncAnthropic(\n",
    "        # This is the default and can be omitted\n",
    "        api_key=os.environ.get(\"ANTHROPIC_API_KEY\"),\n",
    "    )\n",
    "\n",
    "    message = await client.messages.create(\n",
    "        temperature=0,\n",
    "        max_tokens=64,\n",
    "        messages=[\n",
    "            {\n",
    "                \"role\": \"user\",\n",
    "                \"content\": text + script,\n",
    "            },\n",
    "        ],\n",
    "        model=\"claude-3-opus-20240229\",\n",
    "    )\n",
    "\n",
    "    return message.content\n",
    "\n",
    "\n",
    "response = asyncio.run(generate_text(script, music_prompt))\n",
    "music = response[0].text"
   ]
  },
  {
   "cell_type": "code",
   "execution_count": 76,
   "metadata": {},
   "outputs": [
    {
     "data": {
      "text/plain": [
       "'Playful and quirky instrumental background music with a light, whimsical tone.'"
      ]
     },
     "execution_count": 76,
     "metadata": {},
     "output_type": "execute_result"
    }
   ],
   "source": [
    "music"
   ]
  },
  {
   "cell_type": "code",
   "execution_count": 77,
   "metadata": {},
   "outputs": [],
   "source": [
    "with open(\"data/data.json\", \"w\") as f:\n",
    "    json.dump({\"script\": script, \"music_description\": music}, f, indent=4)"
   ]
  }
 ],
 "metadata": {
  "kernelspec": {
   "display_name": "tidbits",
   "language": "python",
   "name": "python3"
  },
  "language_info": {
   "codemirror_mode": {
    "name": "ipython",
    "version": 3
   },
   "file_extension": ".py",
   "mimetype": "text/x-python",
   "name": "python",
   "nbconvert_exporter": "python",
   "pygments_lexer": "ipython3",
   "version": "3.10.13"
  }
 },
 "nbformat": 4,
 "nbformat_minor": 2
}
