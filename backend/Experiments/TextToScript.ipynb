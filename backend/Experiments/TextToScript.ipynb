{
 "cells": [
  {
   "cell_type": "code",
   "execution_count": 56,
   "metadata": {},
   "outputs": [],
   "source": [
    "import asyncio\n",
    "from dotenv import load_dotenv\n",
    "load_dotenv()\n",
    "import nest_asyncio\n",
    "nest_asyncio.apply()\n",
    "import os\n",
    "from anthropic import AsyncAnthropic\n",
    "from xml.sax.saxutils import escape\n",
    "import re\n",
    "import json"
   ]
  },
  {
   "cell_type": "code",
   "execution_count": 65,
   "metadata": {},
   "outputs": [],
   "source": [
    "prompt = \"\"\"\\n\\n\n",
    "The above is a transcript of a lecture video with timestamps for each sentence in seconds.\n",
    "\n",
    "Your task is to create a 30 second engaging and educational tiktok script for one topic in the video. \n",
    "Choose one of the more obscure and interesting topics from the transcript that most people dont know about.\n",
    "The tiktok should incorporate an engaging story or example.\n",
    "The script should be in ssml format. But do not change voices, only add pauses and emphasis.\n",
    "\"\"\"\n",
    "\n",
    "music_prompt = \"\"\"\n",
    "The above is a script for a tiktok video.\n",
    "Please generate a short one sentence description of the music that should be playing in the background of the video.\n",
    "Include genre and mood\n",
    "Example:\n",
    "\"A short upbeat EDM tune with a catchy melody\"\n",
    "\"\"\""
   ]
  },
  {
   "cell_type": "code",
   "execution_count": 58,
   "metadata": {},
   "outputs": [],
   "source": [
    "# Load transcript from data/transcript.txt\n",
    "with open(\"data/transcript.txt\", \"r\") as f:\n",
    "    transcript = f.read()"
   ]
  },
  {
   "cell_type": "code",
   "execution_count": 59,
   "metadata": {},
   "outputs": [],
   "source": [
    "async def generate_text(text, script):\n",
    "    client = AsyncAnthropic(\n",
    "        # This is the default and can be omitted\n",
    "        api_key=os.environ.get(\"ANTHROPIC_API_KEY\"),\n",
    "    )\n",
    "\n",
    "    message = await client.messages.create(\n",
    "        temperature=0,\n",
    "        max_tokens=512,\n",
    "        messages=[\n",
    "            {\n",
    "                \"role\": \"user\",\n",
    "                \"content\": text + script,\n",
    "            },\n",
    "            {\"role\": \"assistant\", \"content\": \"<\"},\n",
    "        ],\n",
    "        model=\"claude-3-opus-20240229\",\n",
    "    )\n",
    "\n",
    "    return message.content\n",
    "\n",
    "response = asyncio.run(generate_text(transcript, prompt))"
   ]
  },
  {
   "cell_type": "code",
   "execution_count": 60,
   "metadata": {},
   "outputs": [],
   "source": [
    "script = f\"<{response[0].text}\""
   ]
  },
  {
   "cell_type": "code",
   "execution_count": 61,
   "metadata": {},
   "outputs": [
    {
     "name": "stdout",
     "output_type": "stream",
     "text": [
      "<speak>\n",
      "Have you ever wondered how your contacts app finds your friends' numbers so quickly? 🤔 It's thanks to a clever data structure called a <emphasis>hash table</emphasis>.\n",
      "\n",
      "Imagine you're at a library, and you need to find a specific book. 📚 You could search through every single shelf, but that would take forever! Instead, libraries use the <emphasis>Dewey Decimal System</emphasis>, which is like a hash table for books.\n",
      "\n",
      "In a hash table, your friends' names are organized into different \"buckets\" based on the first letter of their name. 🍯 So when you search for your friend \"Emma\", the app only needs to look in the \"E\" bucket, making the search <emphasis>lightning-fast</emphasis>! ⚡\n",
      "\n",
      "The catch? If you have too many friends with the same first letter, the buckets can overflow, slowing things down. 😅 But most of the time, hash tables are a <emphasis>game-changer</emphasis> for speedy searches! 🎉\n",
      "\n",
      "So the next time you find a contact in a flash, you can thank the power of hash tables! 😄\n",
      "<break time=\"1s\"/>\n",
      "</speak>\n"
     ]
    }
   ],
   "source": [
    "print(script)"
   ]
  },
  {
   "cell_type": "code",
   "execution_count": 66,
   "metadata": {},
   "outputs": [],
   "source": [
    "async def generate_text(text, script):\n",
    "    client = AsyncAnthropic(\n",
    "        # This is the default and can be omitted\n",
    "        api_key=os.environ.get(\"ANTHROPIC_API_KEY\"),\n",
    "    )\n",
    "\n",
    "    message = await client.messages.create(\n",
    "        temperature=0,\n",
    "        max_tokens=64,\n",
    "        messages=[\n",
    "            {\n",
    "                \"role\": \"user\",\n",
    "                \"content\": text + script,\n",
    "            },\n",
    "        ],\n",
    "        model=\"claude-3-opus-20240229\",\n",
    "    )\n",
    "\n",
    "    return message.content\n",
    "\n",
    "\n",
    "response = asyncio.run(generate_text(script, music_prompt))\n",
    "music = response[0].text"
   ]
  },
  {
   "cell_type": "code",
   "execution_count": 67,
   "metadata": {},
   "outputs": [
    {
     "data": {
      "text/plain": [
       "'Playful and quirky instrumental hip-hop track with a bouncy rhythm.'"
      ]
     },
     "execution_count": 67,
     "metadata": {},
     "output_type": "execute_result"
    }
   ],
   "source": [
    "music"
   ]
  },
  {
   "cell_type": "code",
   "execution_count": 63,
   "metadata": {},
   "outputs": [],
   "source": [
    "with open(\"data/data.json\", \"w\") as f:\n",
    "    json.dump({\"script\": script, \"music_description\": music}, f, indent=4)"
   ]
  }
 ],
 "metadata": {
  "kernelspec": {
   "display_name": "tidbits",
   "language": "python",
   "name": "python3"
  },
  "language_info": {
   "codemirror_mode": {
    "name": "ipython",
    "version": 3
   },
   "file_extension": ".py",
   "mimetype": "text/x-python",
   "name": "python",
   "nbconvert_exporter": "python",
   "pygments_lexer": "ipython3",
   "version": "3.10.13"
  }
 },
 "nbformat": 4,
 "nbformat_minor": 2
}
